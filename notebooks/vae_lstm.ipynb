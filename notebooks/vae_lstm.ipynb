{
 "cells": [
  {
   "cell_type": "code",
   "execution_count": 1,
   "id": "64d2d9df",
   "metadata": {},
   "outputs": [],
   "source": [
    "import os\n",
    "import sys\n",
    "sys.path.append(\"..\")\n",
    "import pandas as pd\n",
    "import numpy as np\n",
    "import matplotlib.pyplot as plt\n",
    "\n",
    "import torch\n",
    "import torch.nn as nn\n",
    "import torch.nn.functional as F\n",
    "from torch.utils.data import DataLoader\n",
    "\n",
    "from src.data.plots import *\n",
    "from src.models.vaelstm import *\n",
    "from src.train.TrainerVAELSTM import Trainer\n",
    "from src.data.preprocessing.pipeline import Pipeline\n",
    "from src.data.datasets.universal_dataset import CVADataset\n",
    "from src.data.preprocessing.splitter import select_test_inh"
   ]
  },
  {
   "cell_type": "code",
   "execution_count": 17,
   "id": "966553f4",
   "metadata": {},
   "outputs": [],
   "source": [
    "prep = Pipeline(\n",
    "    num_cycle=[1, 2, 3, 4], \n",
    "    inhibitor_name=\"all\", \n",
    "    split=\"all\",\n",
    "    norm_feat=True\n",
    ")\n",
    "\n",
    "df = prep.full_data\n",
    "\n",
    "train, val = select_test_inh(df, \"benzimidazole\")"
   ]
  },
  {
   "cell_type": "code",
   "execution_count": 18,
   "id": "c1ec6096",
   "metadata": {},
   "outputs": [
    {
     "data": {
      "text/plain": [
       "'cuda'"
      ]
     },
     "execution_count": 18,
     "metadata": {},
     "output_type": "execute_result"
    }
   ],
   "source": [
    "torch.manual_seed(42)\n",
    "np.random.seed(42)\n",
    "\n",
    "device = \"cuda\" if torch.cuda.is_available() else \"cpu\"\n",
    "device"
   ]
  },
  {
   "cell_type": "code",
   "execution_count": 19,
   "id": "a217a4d5",
   "metadata": {},
   "outputs": [],
   "source": [
    "train_dataset = CVADataset(train)\n",
    "val_dataset = CVADataset(val)\n",
    "\n",
    "train_loader = DataLoader(train_dataset, batch_size=64, shuffle=True)\n",
    "val_loader = DataLoader(val_dataset, batch_size=64, shuffle=True)"
   ]
  },
  {
   "cell_type": "code",
   "execution_count": 20,
   "id": "b0f29b2b",
   "metadata": {},
   "outputs": [],
   "source": [
    "import torch\n",
    "import torch.nn as nn\n",
    "import torch.nn.functional as F\n",
    "\n",
    "class VAE_LSTM(nn.Module):\n",
    "    def __init__(\n",
    "        self,\n",
    "        input_dim: int,\n",
    "        latent_dim: int,\n",
    "        hidden_dim: int,\n",
    "        num_layers: int,\n",
    "        seq_len: int,\n",
    "        desc_dim: int,\n",
    "    ):\n",
    "        super().__init__()\n",
    "        self.seq_len    = seq_len\n",
    "        self.hidden_dim = hidden_dim\n",
    "        self.num_layers = num_layers\n",
    "        self.input_dim  = input_dim\n",
    "\n",
    "        # --- Encoder ---\n",
    "        self.encoder_lstm = nn.LSTM(\n",
    "            input_size=input_dim,\n",
    "            hidden_size=hidden_dim,\n",
    "            num_layers=num_layers,\n",
    "            batch_first=True,\n",
    "            bidirectional=False,\n",
    "        )\n",
    "        self.fc_mu     = nn.Linear(hidden_dim, latent_dim)\n",
    "        self.fc_logvar = nn.Linear(hidden_dim, latent_dim)\n",
    "\n",
    "        # --- Для формирования начального состояния декодера ---\n",
    "        self.init_h = nn.Linear(latent_dim + desc_dim, num_layers * hidden_dim)\n",
    "\n",
    "        # --- Decoder ---\n",
    "        # на вход LSTM мы будем подавать векторы размерности hidden_dim\n",
    "        self.decoder_lstm = nn.LSTM(\n",
    "            input_size=input_dim,          # сейчас подаём прошл. выход (input_dim)\n",
    "            hidden_size=hidden_dim,\n",
    "            num_layers=num_layers,\n",
    "            batch_first=True,\n",
    "        )\n",
    "        self.output_layer = nn.Linear(hidden_dim, input_dim)\n",
    "\n",
    "    def encode(self, x):\n",
    "        # x: (B, seq_len, input_dim)\n",
    "        _, (h_n, _) = self.encoder_lstm(x)\n",
    "        h_last = h_n[-1]                # (B, hidden_dim)\n",
    "        mu     = self.fc_mu(h_last)     # (B, latent_dim)\n",
    "        logvar = self.fc_logvar(h_last) # (B, latent_dim)\n",
    "        return mu, logvar\n",
    "\n",
    "    @staticmethod\n",
    "    def reparameterize(mu, logvar):\n",
    "        std = torch.exp(0.5 * logvar)\n",
    "        eps = torch.randn_like(std)\n",
    "        return mu + eps * std\n",
    "\n",
    "    def decode(self, z, desc, x=None, teacher_forcing_ratio=1.0):\n",
    "        \"\"\"\n",
    "        В режиме обучения (teacher_forcing_ratio=1.0) мы просто\n",
    "        подаём в LSTM всю настоящую последовательность x разом,\n",
    "        и получаем backprop без Python-цикла.\n",
    "        При inference (ratio=0) можно раскручивать автогенерацию\n",
    "        с циклом, но во время тренировок он не нужен.\n",
    "        \"\"\"\n",
    "        B = z.size(0)\n",
    "        # формируем init h0/c0\n",
    "        h0c0 = self.init_h(torch.cat([z, desc], dim=1))\n",
    "        h0 = h0c0.view(self.num_layers, B, self.hidden_dim)\n",
    "        c0 = torch.zeros_like(h0)\n",
    "\n",
    "        if x is not None and teacher_forcing_ratio > 0.5:\n",
    "            # Векторизованная часть: сразу весь ground truth\n",
    "            # x: (B, seq_len, input_dim)\n",
    "            outputs, _ = self.decoder_lstm(x, (h0, c0))\n",
    "            return self.output_layer(outputs)\n",
    "\n",
    "        # Иначе — inference-режим или частичный TF: можно сделать цикл\n",
    "        # (аналогично тому, что было у вас раньше)\n",
    "        prev = torch.zeros(B, 1, self.input_dim, device=z.device)\n",
    "        outputs = []\n",
    "        h, c = h0, c0\n",
    "        for t in range(self.seq_len):\n",
    "            out, (h, c) = self.decoder_lstm(prev, (h, c))\n",
    "            step = self.output_layer(out)\n",
    "            outputs.append(step)\n",
    "            if x is not None and torch.rand(1).item() < teacher_forcing_ratio:\n",
    "                prev = x[:, t:t+1, :]\n",
    "            else:\n",
    "                prev = step\n",
    "        return torch.cat(outputs, dim=1)\n",
    "\n",
    "    def forward(self, x, desc, teacher_forcing_ratio=1.0):\n",
    "        x_in = x.unsqueeze(-1)            # (B, seq_len, 1)\n",
    "        mu, logvar = self.encode(x_in)\n",
    "        z          = self.reparameterize(mu, logvar)\n",
    "        x_recon    = self.decode(z, desc, x_in, teacher_forcing_ratio)\n",
    "        return x_recon, mu, logvar\n",
    "\n",
    "\n",
    "def vae_loss(recon_x, x, mu, logvar, beta=1.0):\n",
    "    # recon_x, x: (B, seq_len, input_dim)\n",
    "    x = x.unsqueeze(-1)\n",
    "    recon_loss = F.l1_loss(recon_x, x, reduction='sum')\n",
    "    kld = -0.5 * torch.mean(1 + logvar - mu.pow(2) - logvar.exp())\n",
    "    return recon_loss + beta * kld\n"
   ]
  },
  {
   "cell_type": "code",
   "execution_count": 21,
   "id": "0d4faa39",
   "metadata": {},
   "outputs": [
    {
     "name": "stdout",
     "output_type": "stream",
     "text": [
      "Epoch 000 — Train: 688.0067, Val: 750.7458\n",
      "Epoch 001 — Train: 506.4787, Val: 348.1732\n",
      "Epoch 002 — Train: 227.4037, Val: 222.9820\n",
      "Epoch 003 — Train: 157.7810, Val: 162.1878\n",
      "Epoch 004 — Train: 110.7958, Val: 104.9296\n",
      "Epoch 005 — Train: 65.6353, Val: 62.4011\n",
      "Epoch 006 — Train: 42.9378, Val: 48.0297\n",
      "Epoch 007 — Train: 35.1833, Val: 40.5493\n",
      "Epoch 008 — Train: 30.9433, Val: 36.3742\n",
      "Epoch 009 — Train: 27.6404, Val: 32.9111\n",
      "Epoch 010 — Train: 25.2417, Val: 30.0041\n",
      "Epoch 011 — Train: 23.0404, Val: 28.0335\n",
      "Epoch 012 — Train: 22.2588, Val: 28.3130\n",
      "Epoch 013 — Train: 20.6523, Val: 25.2807\n",
      "Epoch 014 — Train: 19.3368, Val: 22.5600\n",
      "Epoch 015 — Train: 17.6213, Val: 21.5488\n",
      "Epoch 016 — Train: 16.6660, Val: 19.9655\n",
      "Epoch 017 — Train: 15.7748, Val: 19.0421\n",
      "Epoch 018 — Train: 15.0401, Val: 17.9279\n",
      "Epoch 019 — Train: 14.2020, Val: 16.9819\n",
      "Epoch 020 — Train: 13.4782, Val: 16.4927\n",
      "Epoch 021 — Train: 14.1897, Val: 15.6527\n",
      "Epoch 022 — Train: 13.5062, Val: 17.6709\n",
      "Epoch 023 — Train: 12.8862, Val: 14.3971\n",
      "Epoch 024 — Train: 11.3471, Val: 14.2271\n",
      "Epoch 025 — Train: 12.0951, Val: 17.0187\n",
      "Epoch 026 — Train: 11.8998, Val: 13.1467\n",
      "Epoch 027 — Train: 11.1726, Val: 16.1000\n",
      "Epoch 028 — Train: 11.2123, Val: 12.2477\n",
      "Epoch 029 — Train: 9.6338, Val: 11.7124\n",
      "Epoch 030 — Train: 9.2761, Val: 11.2501\n",
      "Epoch 031 — Train: 9.0197, Val: 11.1549\n",
      "Epoch 032 — Train: 8.8041, Val: 10.7165\n",
      "Epoch 033 — Train: 8.5199, Val: 11.2681\n",
      "Epoch 034 — Train: 9.7861, Val: 15.2002\n",
      "Epoch 035 — Train: 9.8568, Val: 15.6331\n",
      "Epoch 036 — Train: 12.0060, Val: 14.0640\n",
      "Epoch 037 — Train: 8.9809, Val: 9.4245\n",
      "Epoch 038 — Train: 8.3156, Val: 12.5045\n",
      "Epoch 039 — Train: 8.6139, Val: 8.9523\n",
      "Epoch 040 — Train: 7.1890, Val: 8.8798\n",
      "Epoch 041 — Train: 7.0845, Val: 9.1937\n",
      "Epoch 042 — Train: 8.1081, Val: 12.6020\n",
      "Epoch 043 — Train: 10.6849, Val: 12.8024\n",
      "Epoch 044 — Train: 7.8070, Val: 9.6456\n",
      "Epoch 045 — Train: 7.4026, Val: 11.1741\n",
      "Epoch 046 — Train: 7.6889, Val: 8.5641\n",
      "Epoch 047 — Train: 7.2453, Val: 11.0399\n",
      "Epoch 048 — Train: 7.4528, Val: 8.0689\n",
      "Epoch 049 — Train: 7.0310, Val: 9.7177\n"
     ]
    }
   ],
   "source": [
    "model = VAE_LSTM(\n",
    "    seq_len=968,\n",
    "    desc_dim=41,\n",
    "    input_dim=1,\n",
    "    latent_dim=64,\n",
    "    hidden_dim=128,\n",
    "    num_layers=2,\n",
    "    \n",
    ").to(device)\n",
    "\n",
    "optimizer = torch.optim.Adam(model.parameters(), lr=1e-4)\n",
    "\n",
    "train_losses = []\n",
    "val_losses = []\n",
    "\n",
    "best_val_loss = float(\"inf\")\n",
    "\n",
    "for epoch in range(50):\n",
    "    \n",
    "    train_true_vah = []\n",
    "    train_predicted_vah = []\n",
    "    train_loss = 0.0\n",
    "\n",
    "    model.train()\n",
    "    for batch in train_loader:\n",
    "        vah, desc = batch[\"vah\"].to(device), batch[\"features\"].to(device)\n",
    "        optimizer.zero_grad()\n",
    "        vah_hat, m, lv = model(vah, desc)\n",
    "        loss = vae_loss(vah_hat, vah, m, lv)\n",
    "        loss.backward()\n",
    "        optimizer.step()\n",
    "\n",
    "        train_loss += loss.item()\n",
    "\n",
    "        # --- здесь правим сбор метрик ---\n",
    "        vah_np = vah.detach().cpu().numpy()          # (B, seq_len)\n",
    "        pred_np = vah_hat.detach().cpu().numpy()     # (B, seq_len, 1) или (B, seq_len)\n",
    "        if pred_np.ndim == 3:\n",
    "            pred_np = pred_np.squeeze(-1)            # → (B, seq_len)\n",
    "\n",
    "        # расплющиваем сразу в одномерный список:\n",
    "    train_true_vah.extend(np.transpose(vah_np[0]))\n",
    "    train_predicted_vah.extend(np.transpose(pred_np[0]))\n",
    "\n",
    "    train_loss /= len(train_loader.dataset)\n",
    "    \n",
    "    \n",
    "    val_true_vah = []\n",
    "    val_predicted_vah = []\n",
    "    val_loss = 0.0\n",
    "\n",
    "    model.eval()\n",
    "    with torch.no_grad():\n",
    "        for batch in val_loader:\n",
    "            vah, desc = batch[\"vah\"].to(device), batch[\"features\"].to(device)\n",
    "            vah_hat, m, lv = model(vah, desc)\n",
    "            val_loss += vae_loss(vah_hat, vah, m, lv).item()\n",
    "\n",
    "            vah_np = vah.detach().cpu().numpy()\n",
    "            pred_np = vah_hat.detach().cpu().numpy()\n",
    "            if pred_np.ndim == 3:\n",
    "                pred_np = pred_np.squeeze(-1)\n",
    "\n",
    "    val_true_vah.extend(np.transpose(vah_np[0]))\n",
    "    val_predicted_vah.extend(np.transpose(pred_np[0]))\n",
    "\n",
    "    val_loss /= len(val_loader.dataset)\n",
    "    \n",
    "    train_losses.append(train_loss)\n",
    "    val_losses.append(val_loss)\n",
    "    \n",
    "    \n",
    "    if epoch % 10 == 0:\n",
    "    \n",
    "        plot_models(\n",
    "            epoch,\n",
    "            \"/home/ccinfochem/Documents/krotkov/Electrochem_DT/reports/vae_lstm/\" + f\"epoch_{epoch}.png\",\n",
    "            train_true_vah, \n",
    "            train_predicted_vah, \n",
    "            val_true_vah, \n",
    "            val_predicted_vah, \n",
    "            train_losses, \n",
    "            val_losses\n",
    "        )\n",
    "    \n",
    "        \n",
    "    print(f\"Epoch {epoch:03d} — Train: {train_loss:.4f}, Val: {val_loss:.4f}\")"
   ]
  },
  {
   "cell_type": "code",
   "execution_count": 7,
   "id": "62ebaa19",
   "metadata": {},
   "outputs": [],
   "source": [
    "# trainer = Trainer(\n",
    "#     model=vae,\n",
    "#     loss_fn=vae_loss,\n",
    "#     epochs=500,\n",
    "#     optimizer=opt_vae,\n",
    "#     train_loader=train_loader,\n",
    "#     val_loader=val_loader,\n",
    "#     device=device,\n",
    "#     path_to_save_plots=\"/home/ccinfochem/Documents/krotkov/Electrochem_DT/reports/vae_lstm/\",\n",
    "#     path_to_save_models=\"/home/ccinfochem/Documents/krotkov/Electrochem_DT/models/vae_lstm/best_model.pt\",\n",
    "#     path_to_save_tables=\"/home/ccinfochem/Documents/krotkov/Electrochem_DT/reports/vae_lstm/\",\n",
    "#     seed=42\n",
    "# )"
   ]
  },
  {
   "cell_type": "code",
   "execution_count": 22,
   "id": "3a549fc6",
   "metadata": {},
   "outputs": [
    {
     "name": "stderr",
     "output_type": "stream",
     "text": [
      "100%|██████████| 940/940 [00:08<00:00, 114.16it/s]\n"
     ]
    }
   ],
   "source": [
    "from tqdm import tqdm\n",
    "\n",
    "full_ds = CVADataset(val)\n",
    "infer_loader = DataLoader(full_ds, batch_size=1, shuffle=False)\n",
    "\n",
    "vah_preds = []\n",
    "embeddings = []\n",
    "model.eval()\n",
    "with torch.inference_mode():\n",
    "    for batch in tqdm(infer_loader):\n",
    "        vah, desc = batch[\"vah\"].to(device), batch[\"features\"].to(device)\n",
    "        vah_hat, mu, logvar = model(vah, desc)\n",
    "        embed = model.reparameterize(mu, logvar)\n",
    "        \n",
    "        embeddings.append(embed.squeeze().cpu().numpy())\n",
    "        vah_preds.append(vah_hat.squeeze().cpu().numpy())\n",
    "\n",
    "# объединяем и превращаем в DataFrame\n",
    "vah_preds = pd.DataFrame(np.vstack(vah_preds))     # shape [N, 968]\n",
    "embeddings = pd.DataFrame(np.vstack(embeddings))"
   ]
  },
  {
   "cell_type": "code",
   "execution_count": 23,
   "id": "61555bcc",
   "metadata": {},
   "outputs": [],
   "source": [
    "embeddings[\"ppm\"] = df[\"ppm\"]\n",
    "embeddings[\"Inhibitor\"] = df[\"Inhibitor\"]"
   ]
  },
  {
   "cell_type": "code",
   "execution_count": 24,
   "id": "efcdda85",
   "metadata": {},
   "outputs": [],
   "source": [
    "gen_vah = np.array(vah_preds, dtype=np.float64)\n",
    "np_val = np.array(val.reset_index(drop=True).drop(columns=prep.desc.columns).drop(columns=\"ppm\"), dtype=np.float64)"
   ]
  },
  {
   "cell_type": "code",
   "execution_count": 25,
   "id": "fb43e3fa",
   "metadata": {},
   "outputs": [],
   "source": [
    "from dtaidistance import dtw\n",
    "\n",
    "def compute_dtw(original, reconstructed):\n",
    "    \"\"\"\n",
    "    Dynamic Time Warping расстояние между временными рядами.\n",
    "    \"\"\"\n",
    "    return dtw.distance_fast(original, reconstructed, use_c = True)"
   ]
  },
  {
   "cell_type": "code",
   "execution_count": 26,
   "id": "38c00167",
   "metadata": {},
   "outputs": [
    {
     "name": "stderr",
     "output_type": "stream",
     "text": [
      "100%|██████████| 940/940 [00:03<00:00, 286.24it/s]\n"
     ]
    }
   ],
   "source": [
    "from tqdm import tqdm\n",
    "\n",
    "dtw_m = []\n",
    "\n",
    "for i in tqdm(range(len(gen_vah))):\n",
    "    dtw_m.append(compute_dtw(gen_vah[i], np_val[i]))"
   ]
  },
  {
   "cell_type": "code",
   "execution_count": 27,
   "id": "63ba1adc",
   "metadata": {},
   "outputs": [],
   "source": [
    "metr = pd.DataFrame({\n",
    "    \"Inhibitor\": val.reset_index(drop=True)[\"Inhibitor\"],\n",
    "    \"metrics\":dtw_m})"
   ]
  },
  {
   "cell_type": "code",
   "execution_count": 28,
   "id": "9c58c66e",
   "metadata": {},
   "outputs": [
    {
     "data": {
      "text/plain": [
       "0.5414257413066047"
      ]
     },
     "execution_count": 28,
     "metadata": {},
     "output_type": "execute_result"
    }
   ],
   "source": [
    "metr['metrics'].mean()"
   ]
  },
  {
   "cell_type": "code",
   "execution_count": 29,
   "id": "7d36d413",
   "metadata": {},
   "outputs": [],
   "source": [
    "metr.to_csv(\"vae_lstm_benzimidazole.csv\", index=False)"
   ]
  },
  {
   "cell_type": "code",
   "execution_count": 76,
   "id": "b57ad034",
   "metadata": {},
   "outputs": [
    {
     "data": {
      "image/png": "[encoded data removed]",
      "text/plain": [
       "<Figure size 1000x500 with 1 Axes>"
      ]
     },
     "metadata": {},
     "output_type": "display_data"
    }
   ],
   "source": [
    "n = 7\n",
    "\n",
    "plt.figure(figsize=(10, 5))\n",
    "plt.plot(np_val[n], label=\"Original\")\n",
    "plt.plot(gen_vah[n], label=\"Reconstructed\", linestyle='--', color='red')\n",
    "plt.xticks(fontsize=16)\n",
    "plt.yticks(fontsize=16)\n",
    "plt.xlabel(\"Time, s\", fontsize=16, fontweight='bold', labelpad=20)\n",
    "plt.ylabel(\"Current, A\", fontsize=16, fontweight='bold', labelpad=20)\n",
    "plt.legend(fontsize=14, )\n",
    "plt.show()"
   ]
  }
 ],
 "metadata": {
  "kernelspec": {
   "display_name": "venv",
   "language": "python",
   "name": "python3"
  },
  "language_info": {
   "codemirror_mode": {
    "name": "ipython",
    "version": 3
   },
   "file_extension": ".py",
   "mimetype": "text/x-python",
   "name": "python",
   "nbconvert_exporter": "python",
   "pygments_lexer": "ipython3",
   "version": "3.8.8"
  }
 },
 "nbformat": 4,
 "nbformat_minor": 5
}

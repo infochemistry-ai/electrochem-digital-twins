{
 "cells": [
  {
   "cell_type": "code",
   "execution_count": null,
   "id": "64d2d9df",
   "metadata": {},
   "outputs": [],
   "source": [
    "import os\n",
    "import sys\n",
    "sys.path.append(\"../..\")\n",
    "from torch.utils.data import DataLoader\n",
    "from src.models.vaeconv import *\n",
    "from src.train.trainer.TrainerVAE import Trainer\n",
    "from src.data.preprocessing.pipeline import Pipeline\n",
    "from src.data.datasets.universal_dataset import CVADataset\n",
    "from src.data.preprocessing.splitter import select_test_inh\n",
    "from src.utils.paths import get_project_path\n"
   ]
  },
  {
   "cell_type": "code",
   "execution_count": null,
   "id": "9dcc90be",
   "metadata": {},
   "outputs": [],
   "source": [
    "def load_data(drop_inhib: str):\n",
    "    prep = Pipeline(\n",
    "        num_cycle=[1, 2, 3, 4], \n",
    "        inhibitor_name=\"all\", \n",
    "        split=\"all\",\n",
    "        norm_feat=True\n",
    "    )\n",
    "    data = prep.full_data\n",
    "\n",
    "    train_data, valid_data = select_test_inh(data, drop_inhib)\n",
    "    \n",
    "    return train_data, valid_data"
   ]
  },
  {
   "cell_type": "code",
   "execution_count": null,
   "id": "da90dc72",
   "metadata": {},
   "outputs": [],
   "source": [
    "device = \"cuda\" if torch.cuda.is_available() else \"cpu\""
   ]
  },
  {
   "cell_type": "code",
   "execution_count": null,
   "id": "ee5bdd5f",
   "metadata": {},
   "outputs": [],
   "source": [
    "INHIBITOR_NAME = \"2-mercaptobenzimidazole\"\n",
    "\n",
    "train, val = load_data(drop_inhib=INHIBITOR_NAME)\n",
    "\n",
    "train_dataset = CVADataset(train)\n",
    "test_dataset = CVADataset(val)\n",
    "\n",
    "train_loader = DataLoader(train_dataset, batch_size=256, shuffle=True)\n",
    "val_loader = DataLoader(test_dataset, batch_size=256, shuffle=True)"
   ]
  },
  {
   "cell_type": "code",
   "execution_count": null,
   "id": "ac1c28a9",
   "metadata": {},
   "outputs": [],
   "source": [
    "device = \"cuda\" if torch.cuda.is_available() else \"cpu\"\n",
    "\n",
    "vae = VAE_CONV(\n",
    "    in_channels=1,\n",
    "    latent_dim=64,\n",
    "    seq_len=968,\n",
    "    desc_dim=41\n",
    ").to(device)\n",
    "\n",
    "opt_vae = torch.optim.Adam(vae.parameters(), lr=5e-5)"
   ]
  },
  {
   "cell_type": "code",
   "execution_count": null,
   "id": "466b206c",
   "metadata": {},
   "outputs": [],
   "source": [
    "num_epoch = 500\n",
    "\n",
    "trainer = Trainer(\n",
    "    model=vae,\n",
    "    loss_fn=vae_loss,\n",
    "    epochs=num_epoch,\n",
    "    optimizer=opt_vae,\n",
    "    train_loader=train_loader,\n",
    "    val_loader=val_loader,\n",
    "    device=device,\n",
    "    path_to_save_plots=os.path.join(get_project_path(), \"reports\", \"vae_conv\", INHIBITOR_NAME),\n",
    "    path_to_save_models=os.path.join(get_project_path(), \"models\", \"vae_conv\", INHIBITOR_NAME, \"best_model.pt\"),\n",
    "    path_to_save_tables=os.path.join(get_project_path(), \"reports\", \"vae_conv\", INHIBITOR_NAME),\n",
    "    seed=42\n",
    ")\n",
    "\n",
    "trainer.train_model()"
   ]
  }
 ],
 "metadata": {
  "kernelspec": {
   "display_name": ".venv",
   "language": "python",
   "name": "python3"
  },
  "language_info": {
   "codemirror_mode": {
    "name": "ipython",
    "version": 3
   },
   "file_extension": ".py",
   "mimetype": "text/x-python",
   "name": "python",
   "nbconvert_exporter": "python",
   "pygments_lexer": "ipython3",
   "version": "3.13.3"
  }
 },
 "nbformat": 4,
 "nbformat_minor": 5
}

{
 "cells": [
  {
   "cell_type": "code",
   "execution_count": null,
   "metadata": {},
   "outputs": [],
   "source": [
    "import os\n",
    "import sys\n",
    "sys.path.append(\"../..\")\n",
    "from torch.utils.data import DataLoader\n",
    "from src.models.ganconv import *\n",
    "from src.train.trainer.TrainerGAN import Trainer\n",
    "from src.data.preprocessing.pipeline import Pipeline\n",
    "from src.data.datasets.universal_dataset import CVADataset\n",
    "from src.data.preprocessing.splitter import select_test_inh\n",
    "from src.utils.paths import get_project_path"
   ]
  },
  {
   "cell_type": "code",
   "execution_count": null,
   "metadata": {},
   "outputs": [],
   "source": [
    "def load_data(drop_inhib: str):\n",
    "    prep = Pipeline(\n",
    "        num_cycle=[1, 2, 3, 4], \n",
    "        inhibitor_name=\"all\", \n",
    "        split=\"all\",\n",
    "        norm_feat=True\n",
    "    )\n",
    "    data = prep.full_data\n",
    "\n",
    "    train_data, valid_data = select_test_inh(data, drop_inhib)\n",
    "    \n",
    "    return train_data, valid_data"
   ]
  },
  {
   "cell_type": "code",
   "execution_count": null,
   "metadata": {},
   "outputs": [],
   "source": [
    "device = \"cuda\" if torch.cuda.is_available() else \"cpu\""
   ]
  },
  {
   "cell_type": "code",
   "execution_count": null,
   "metadata": {},
   "outputs": [],
   "source": [
    "INHIBITOR_NAME = \"2-mercaptobenzimidazole\"\n",
    "\n",
    "train, val = load_data(drop_inhib=INHIBITOR_NAME)\n",
    "\n",
    "train_dataset = CVADataset(train)\n",
    "test_dataset = CVADataset(val)\n",
    "\n",
    "train_loader = DataLoader(train_dataset, batch_size=256, shuffle=True)\n",
    "val_loader = DataLoader(test_dataset, batch_size=256, shuffle=True)"
   ]
  },
  {
   "cell_type": "code",
   "execution_count": null,
   "metadata": {},
   "outputs": [],
   "source": [
    "input_dim=80\n",
    "output_vah = 968\n",
    "\n",
    "generator = Generator(in_dim=input_dim, vah_dim=output_vah, desc_dim=41).to(device)\n",
    "discriminator = Discriminator(output_vah).to(device)\n",
    "\n",
    "optimizer_G = torch.optim.Adam(generator.parameters(), lr=1e-4, betas=(0.99, 0.899))\n",
    "optimizer_D = torch.optim.Adam(discriminator.parameters(), lr=1e-5, betas=(0.99, 0.999))\n",
    "\n",
    "criterion = nn.BCELoss(reduction='sum')\n",
    "recon_loss = nn.L1Loss(reduction=\"sum\")"
   ]
  },
  {
   "cell_type": "code",
   "execution_count": null,
   "metadata": {},
   "outputs": [],
   "source": [
    "num_epochs=500\n",
    "\n",
    "trainer = Trainer(\n",
    "    generator=generator,\n",
    "    discriminator=discriminator,\n",
    "    loss_fn=criterion,\n",
    "    loss_recon=recon_loss,\n",
    "    epochs=num_epochs,\n",
    "    optimizer_gen=optimizer_G,\n",
    "    optimizer_disc=optimizer_D,\n",
    "    train_loader=train_loader,\n",
    "    val_loader=val_loader,\n",
    "    device=device,\n",
    "    path_to_save_plots=os.path.join(get_project_path(), \"reports\", \"gan_conv\", INHIBITOR_NAME),\n",
    "    path_to_save_models=os.path.join(get_project_path(), \"models\", \"gan_conv\", INHIBITOR_NAME),\n",
    "    path_to_save_tables=os.path.join(get_project_path(), \"reports\", \"gan_conv\", INHIBITOR_NAME),\n",
    "    seed=42\n",
    ")\n",
    "\n",
    "trainer.train_model()"
   ]
  }
 ],
 "metadata": {
  "kernelspec": {
   "display_name": ".venv",
   "language": "python",
   "name": "python3"
  },
  "language_info": {
   "codemirror_mode": {
    "name": "ipython",
    "version": 3
   },
   "file_extension": ".py",
   "mimetype": "text/x-python",
   "name": "python",
   "nbconvert_exporter": "python",
   "pygments_lexer": "ipython3",
   "version": "3.13.3"
  }
 },
 "nbformat": 4,
 "nbformat_minor": 2
}

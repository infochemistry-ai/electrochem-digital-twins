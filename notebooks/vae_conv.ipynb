{
 "cells": [
  {
   "cell_type": "code",
   "execution_count": 5,
   "id": "64d2d9df",
   "metadata": {},
   "outputs": [],
   "source": [
    "import os\n",
    "import sys\n",
    "sys.path.append(\"..\")\n",
    "import pandas as pd\n",
    "import numpy as np\n",
    "import matplotlib.pyplot as plt\n",
    "\n",
    "import torch\n",
    "import torch.nn as nn\n",
    "import torch.nn.functional as F\n",
    "from torch.utils.data import DataLoader\n",
    "\n",
    "from src.models.vaeconv import *\n",
    "from src.train.TrainerVAE import Trainer\n",
    "from src.data.preprocessing.pipeline import Pipeline\n",
    "from src.data.datasets.universal_dataset import CVADataset\n",
    "from src.data.preprocessing.splitter import select_test_inh\n",
    "from src.utils.paths import get_project_path"
   ]
  },
  {
   "cell_type": "code",
   "execution_count": 2,
   "id": "966553f4",
   "metadata": {},
   "outputs": [],
   "source": [
    "prep = Pipeline(\n",
    "    num_cycle=[1, 2, 3, 4], \n",
    "    inhibitor_name=\"all\", \n",
    "    split=\"all\",\n",
    "    norm_feat=True\n",
    ")\n",
    "\n",
    "df = prep.full_data\n",
    "\n",
    "train, val = select_test_inh(df, \"2-mercaptobenzimidazole\")"
   ]
  },
  {
   "cell_type": "code",
   "execution_count": 3,
   "id": "c1ec6096",
   "metadata": {},
   "outputs": [
    {
     "data": {
      "text/plain": [
       "'cpu'"
      ]
     },
     "execution_count": 3,
     "metadata": {},
     "output_type": "execute_result"
    }
   ],
   "source": [
    "torch.manual_seed(42)\n",
    "np.random.seed(42)\n",
    "\n",
    "device = \"cuda\" if torch.cuda.is_available() else \"cpu\"\n",
    "device"
   ]
  },
  {
   "cell_type": "code",
   "execution_count": 4,
   "id": "a217a4d5",
   "metadata": {},
   "outputs": [],
   "source": [
    "train_dataset = CVADataset(train)\n",
    "val_dataset = CVADataset(val)\n",
    "\n",
    "train_loader = DataLoader(train_dataset, batch_size=256, shuffle=True)\n",
    "val_loader = DataLoader(val_dataset, batch_size=256, shuffle=True)"
   ]
  },
  {
   "cell_type": "code",
   "execution_count": 8,
   "id": "0d4faa39",
   "metadata": {},
   "outputs": [],
   "source": [
    "vae = VAE_CONV(\n",
    "    in_channels=1,\n",
    "    latent_dim=64,\n",
    "    seq_len=968,\n",
    "    desc_dim=41\n",
    ").to(device)\n",
    "\n",
    "opt_vae = torch.optim.Adam(vae.parameters(), lr=5e-5)\n",
    "\n",
    "trainer = Trainer(\n",
    "    model=vae,\n",
    "    loss_fn=vae_loss,\n",
    "    epochs=500,\n",
    "    optimizer=opt_vae,\n",
    "    train_loader=train_loader,\n",
    "    val_loader=val_loader,\n",
    "    device=device,\n",
    "    path_to_save_plots=os.path.join(get_project_path(), \"reports\", \"vae_conv\", \"2_mercaptobenzimidazole\"),\n",
    "    path_to_save_models=os.path.join(get_project_path(), \"models\", \"vae_conv\", \"2_mercaptobenzimidazole\", \"best_model.pt\"),\n",
    "    path_to_save_tables=os.path.join(get_project_path(), \"reports\", \"vae_conv\", \"2_mercaptobenzimidazole\"),\n",
    "    seed=42\n",
    ")"
   ]
  },
  {
   "cell_type": "code",
   "execution_count": 9,
   "id": "e10fbe8e",
   "metadata": {},
   "outputs": [
    {
     "name": "stdout",
     "output_type": "stream",
     "text": [
      "Epoch 000 — Train: 1480.0884, Val: 727.0574\n",
      "Epoch 001 — Train: 746.9249, Val: 691.7502\n",
      "Epoch 002 — Train: 441.8069, Val: 566.4323\n",
      "Epoch 003 — Train: 325.1297, Val: 373.3966\n",
      "Epoch 004 — Train: 273.3269, Val: 269.0974\n",
      "Epoch 005 — Train: 247.7955, Val: 237.9243\n",
      "Epoch 006 — Train: 233.9219, Val: 227.9016\n",
      "Epoch 007 — Train: 226.1829, Val: 219.1330\n",
      "Epoch 008 — Train: 221.4119, Val: 214.4221\n",
      "Epoch 009 — Train: 217.6687, Val: 209.9887\n",
      "Epoch 010 — Train: 214.6186, Val: 207.4826\n",
      "Epoch 011 — Train: 211.6667, Val: 205.4667\n",
      "Epoch 012 — Train: 209.2100, Val: 199.7524\n",
      "Epoch 013 — Train: 205.7629, Val: 196.8253\n",
      "Epoch 014 — Train: 202.9560, Val: 193.8811\n",
      "Epoch 015 — Train: 200.0998, Val: 190.4793\n",
      "Epoch 016 — Train: 197.0527, Val: 187.7634\n",
      "Epoch 017 — Train: 194.6665, Val: 183.7951\n",
      "Epoch 018 — Train: 191.0149, Val: 179.4144\n",
      "Epoch 019 — Train: 188.0360, Val: 177.3799\n",
      "Epoch 020 — Train: 184.1075, Val: 171.7623\n",
      "Epoch 021 — Train: 180.7029, Val: 168.0047\n",
      "Epoch 022 — Train: 175.9408, Val: 166.5780\n",
      "Epoch 023 — Train: 171.9838, Val: 163.7974\n",
      "Epoch 024 — Train: 166.6038, Val: 159.5702\n",
      "Epoch 025 — Train: 162.2559, Val: 154.9468\n",
      "Epoch 026 — Train: 158.4254, Val: 151.0447\n",
      "Epoch 027 — Train: 155.4589, Val: 149.1702\n",
      "Epoch 028 — Train: 153.5324, Val: 148.9323\n",
      "Epoch 029 — Train: 151.8554, Val: 145.0896\n",
      "Epoch 030 — Train: 147.7360, Val: 143.2677\n",
      "Epoch 031 — Train: 145.1344, Val: 142.6340\n",
      "Epoch 032 — Train: 142.5540, Val: 137.6909\n",
      "Epoch 033 — Train: 139.4228, Val: 138.4238\n",
      "Epoch 034 — Train: 137.9748, Val: 133.6629\n",
      "Epoch 035 — Train: 135.6430, Val: 132.6704\n",
      "Epoch 036 — Train: 132.7746, Val: 128.5870\n",
      "Epoch 037 — Train: 129.6250, Val: 128.9664\n",
      "Epoch 038 — Train: 126.9169, Val: 125.7589\n",
      "Epoch 039 — Train: 125.1176, Val: 122.3814\n",
      "Epoch 040 — Train: 121.5376, Val: 124.1222\n",
      "Epoch 041 — Train: 121.3232, Val: 126.2396\n",
      "Epoch 042 — Train: 119.4607, Val: 118.9838\n",
      "Epoch 043 — Train: 114.8300, Val: 117.6327\n",
      "Epoch 044 — Train: 112.8897, Val: 119.2628\n",
      "Epoch 045 — Train: 112.2588, Val: 115.1606\n",
      "Epoch 046 — Train: 109.6639, Val: 115.7067\n",
      "Epoch 047 — Train: 109.0143, Val: 113.3307\n",
      "Epoch 048 — Train: 106.1233, Val: 110.5971\n",
      "Epoch 049 — Train: 104.9485, Val: 113.7432\n",
      "Epoch 050 — Train: 104.5045, Val: 107.9454\n",
      "Epoch 051 — Train: 102.3024, Val: 105.9058\n",
      "Epoch 052 — Train: 101.7301, Val: 108.1466\n",
      "Epoch 053 — Train: 104.5635, Val: 108.2994\n",
      "Epoch 054 — Train: 102.9155, Val: 116.9362\n",
      "Epoch 055 — Train: 99.7895, Val: 104.7190\n",
      "Epoch 056 — Train: 97.0911, Val: 103.8871\n",
      "Epoch 057 — Train: 93.5657, Val: 101.4431\n",
      "Epoch 058 — Train: 91.8493, Val: 101.5892\n",
      "Epoch 059 — Train: 91.9355, Val: 105.7839\n",
      "Epoch 060 — Train: 92.0255, Val: 98.8107\n",
      "Epoch 061 — Train: 95.3569, Val: 102.6813\n",
      "Epoch 062 — Train: 91.3816, Val: 100.4956\n",
      "Epoch 063 — Train: 91.6291, Val: 97.5389\n",
      "Epoch 064 — Train: 90.0956, Val: 96.9214\n",
      "Epoch 065 — Train: 88.8730, Val: 94.3630\n",
      "Epoch 066 — Train: 86.3044, Val: 95.9997\n",
      "Epoch 067 — Train: 85.1145, Val: 93.8215\n",
      "Epoch 068 — Train: 83.4154, Val: 93.7193\n",
      "Epoch 069 — Train: 83.3751, Val: 92.8639\n",
      "Epoch 070 — Train: 83.2095, Val: 93.4320\n",
      "Epoch 071 — Train: 83.2516, Val: 91.6597\n",
      "Epoch 072 — Train: 81.9677, Val: 90.8944\n",
      "Epoch 073 — Train: 79.1855, Val: 90.9196\n",
      "Epoch 074 — Train: 80.5412, Val: 90.5183\n",
      "Epoch 075 — Train: 79.4591, Val: 89.8039\n",
      "Epoch 076 — Train: 77.1862, Val: 91.8390\n",
      "Epoch 077 — Train: 76.4102, Val: 87.1486\n",
      "Epoch 078 — Train: 75.3038, Val: 86.2424\n",
      "Epoch 079 — Train: 73.9344, Val: 85.1588\n",
      "Epoch 080 — Train: 80.7404, Val: 88.2277\n",
      "Epoch 081 — Train: 76.4224, Val: 90.1761\n",
      "Epoch 082 — Train: 74.4288, Val: 87.5226\n",
      "Epoch 083 — Train: 76.3611, Val: 87.9099\n",
      "Epoch 084 — Train: 74.3827, Val: 85.8454\n",
      "Epoch 085 — Train: 71.7699, Val: 86.4183\n",
      "Epoch 086 — Train: 72.9676, Val: 89.1493\n",
      "Epoch 087 — Train: 70.9921, Val: 90.3490\n",
      "Epoch 088 — Train: 73.8448, Val: 85.6169\n",
      "Epoch 089 — Train: 73.5989, Val: 84.3254\n",
      "Epoch 090 — Train: 69.4838, Val: 85.0921\n",
      "Epoch 091 — Train: 71.1360, Val: 83.7824\n",
      "Epoch 092 — Train: 69.1524, Val: 79.8038\n",
      "Epoch 093 — Train: 70.2809, Val: 83.2335\n",
      "Epoch 094 — Train: 67.9742, Val: 81.2890\n",
      "Epoch 095 — Train: 69.9179, Val: 82.5815\n",
      "Epoch 096 — Train: 68.0363, Val: 81.0056\n",
      "Epoch 097 — Train: 69.2643, Val: 78.9464\n",
      "Epoch 098 — Train: 66.6585, Val: 83.3594\n",
      "Epoch 099 — Train: 70.4948, Val: 81.6746\n",
      "Epoch 100 — Train: 66.0539, Val: 78.1056\n",
      "Epoch 101 — Train: 68.4901, Val: 81.7369\n",
      "Epoch 102 — Train: 65.9903, Val: 79.8752\n",
      "Epoch 103 — Train: 71.7504, Val: 85.2856\n",
      "Epoch 104 — Train: 68.5721, Val: 79.8358\n",
      "Epoch 105 — Train: 65.1032, Val: 78.3526\n",
      "Epoch 106 — Train: 63.3032, Val: 79.5463\n",
      "Epoch 107 — Train: 64.3073, Val: 78.9059\n",
      "Epoch 108 — Train: 65.0364, Val: 76.7854\n",
      "Epoch 109 — Train: 62.2674, Val: 75.4296\n",
      "Epoch 110 — Train: 66.1699, Val: 81.0214\n",
      "Epoch 111 — Train: 67.0186, Val: 75.4032\n",
      "Epoch 112 — Train: 61.1774, Val: 78.5172\n",
      "Epoch 113 — Train: 63.4358, Val: 79.0704\n",
      "Epoch 114 — Train: 63.4007, Val: 75.7420\n",
      "Epoch 115 — Train: 63.0162, Val: 75.5957\n",
      "Epoch 116 — Train: 63.8638, Val: 76.5434\n",
      "Epoch 117 — Train: 61.0482, Val: 78.6090\n",
      "Epoch 118 — Train: 63.7312, Val: 76.4880\n",
      "Epoch 119 — Train: 59.6021, Val: 71.1768\n",
      "Epoch 120 — Train: 58.7555, Val: 75.5427\n",
      "Epoch 121 — Train: 61.0374, Val: 70.3269\n",
      "Epoch 122 — Train: 59.8820, Val: 84.0482\n",
      "Epoch 123 — Train: 65.6157, Val: 75.6601\n",
      "Epoch 124 — Train: 60.4126, Val: 74.5011\n",
      "Epoch 125 — Train: 58.4489, Val: 71.7779\n",
      "Epoch 126 — Train: 57.1899, Val: 73.6845\n",
      "Epoch 127 — Train: 57.2955, Val: 73.9576\n",
      "Epoch 128 — Train: 59.6361, Val: 74.0270\n",
      "Epoch 129 — Train: 59.5127, Val: 71.0661\n",
      "Epoch 130 — Train: 58.1533, Val: 71.8801\n",
      "Epoch 131 — Train: 56.7682, Val: 73.7139\n",
      "Epoch 132 — Train: 59.1248, Val: 70.3270\n",
      "Epoch 133 — Train: 56.2257, Val: 70.3641\n",
      "Epoch 134 — Train: 58.8889, Val: 71.5556\n",
      "Epoch 135 — Train: 59.4361, Val: 71.6298\n",
      "Epoch 136 — Train: 58.4617, Val: 71.9149\n",
      "Epoch 137 — Train: 54.1457, Val: 67.2068\n",
      "Epoch 138 — Train: 56.2321, Val: 68.9274\n",
      "Epoch 139 — Train: 54.0033, Val: 69.5661\n",
      "Epoch 140 — Train: 55.1565, Val: 72.3164\n",
      "Epoch 141 — Train: 59.9775, Val: 74.6105\n",
      "Epoch 142 — Train: 57.9128, Val: 73.0800\n"
     ]
    },
    {
     "ename": "KeyboardInterrupt",
     "evalue": "",
     "output_type": "error",
     "traceback": [
      "\u001b[31m---------------------------------------------------------------------------\u001b[39m",
      "\u001b[31mKeyboardInterrupt\u001b[39m                         Traceback (most recent call last)",
      "\u001b[36mCell\u001b[39m\u001b[36m \u001b[39m\u001b[32mIn[9]\u001b[39m\u001b[32m, line 1\u001b[39m\n\u001b[32m----> \u001b[39m\u001b[32m1\u001b[39m \u001b[43mtrainer\u001b[49m\u001b[43m.\u001b[49m\u001b[43mtrain_model\u001b[49m\u001b[43m(\u001b[49m\u001b[43m)\u001b[49m\n",
      "\u001b[36mFile \u001b[39m\u001b[32m~/Documents/Project/electrochem-digital-twins/notebooks/../src/train/TrainerVAE.py:112\u001b[39m, in \u001b[36mTrainer.train_model\u001b[39m\u001b[34m(self)\u001b[39m\n\u001b[32m    108\u001b[39m best_val_loss = \u001b[38;5;28mfloat\u001b[39m(\u001b[33m\"\u001b[39m\u001b[33minf\u001b[39m\u001b[33m\"\u001b[39m)\n\u001b[32m    110\u001b[39m \u001b[38;5;28;01mfor\u001b[39;00m epoch \u001b[38;5;129;01min\u001b[39;00m \u001b[38;5;28mrange\u001b[39m(\u001b[38;5;28mself\u001b[39m.epochs):\n\u001b[32m--> \u001b[39m\u001b[32m112\u001b[39m     train_true_cva, train_pred_cva, train_loss = \u001b[38;5;28;43mself\u001b[39;49m\u001b[43m.\u001b[49m\u001b[43mtrain_step\u001b[49m\u001b[43m(\u001b[49m\u001b[43m)\u001b[49m\n\u001b[32m    113\u001b[39m     val_true_cva, val_pred_cva, val_loss = \u001b[38;5;28mself\u001b[39m.val_step()\n\u001b[32m    115\u001b[39m     train_losses.append(train_loss)\n",
      "\u001b[36mFile \u001b[39m\u001b[32m~/Documents/Project/electrochem-digital-twins/notebooks/../src/train/TrainerVAE.py:61\u001b[39m, in \u001b[36mTrainer.train_step\u001b[39m\u001b[34m(self)\u001b[39m\n\u001b[32m     59\u001b[39m vah, desc = batch[\u001b[33m\"\u001b[39m\u001b[33mvah\u001b[39m\u001b[33m\"\u001b[39m].to(\u001b[38;5;28mself\u001b[39m.device), batch[\u001b[33m\"\u001b[39m\u001b[33mfeatures\u001b[39m\u001b[33m\"\u001b[39m].to(\u001b[38;5;28mself\u001b[39m.device)\n\u001b[32m     60\u001b[39m \u001b[38;5;28mself\u001b[39m.optimizer.zero_grad()\n\u001b[32m---> \u001b[39m\u001b[32m61\u001b[39m vah_hat, m, lv = \u001b[38;5;28;43mself\u001b[39;49m\u001b[43m.\u001b[49m\u001b[43mmodel\u001b[49m\u001b[43m(\u001b[49m\u001b[43mvah\u001b[49m\u001b[43m,\u001b[49m\u001b[43m \u001b[49m\u001b[43mdesc\u001b[49m\u001b[43m)\u001b[49m\n\u001b[32m     63\u001b[39m loss = \u001b[38;5;28mself\u001b[39m.loss_fn(vah_hat, vah, m, lv)\n\u001b[32m     65\u001b[39m loss.backward()\n",
      "\u001b[36mFile \u001b[39m\u001b[32m~/Documents/Project/electrochem-digital-twins/.venv/lib/python3.13/site-packages/torch/nn/modules/module.py:1751\u001b[39m, in \u001b[36mModule._wrapped_call_impl\u001b[39m\u001b[34m(self, *args, **kwargs)\u001b[39m\n\u001b[32m   1749\u001b[39m     \u001b[38;5;28;01mreturn\u001b[39;00m \u001b[38;5;28mself\u001b[39m._compiled_call_impl(*args, **kwargs)  \u001b[38;5;66;03m# type: ignore[misc]\u001b[39;00m\n\u001b[32m   1750\u001b[39m \u001b[38;5;28;01melse\u001b[39;00m:\n\u001b[32m-> \u001b[39m\u001b[32m1751\u001b[39m     \u001b[38;5;28;01mreturn\u001b[39;00m \u001b[38;5;28;43mself\u001b[39;49m\u001b[43m.\u001b[49m\u001b[43m_call_impl\u001b[49m\u001b[43m(\u001b[49m\u001b[43m*\u001b[49m\u001b[43margs\u001b[49m\u001b[43m,\u001b[49m\u001b[43m \u001b[49m\u001b[43m*\u001b[49m\u001b[43m*\u001b[49m\u001b[43mkwargs\u001b[49m\u001b[43m)\u001b[49m\n",
      "\u001b[36mFile \u001b[39m\u001b[32m~/Documents/Project/electrochem-digital-twins/.venv/lib/python3.13/site-packages/torch/nn/modules/module.py:1762\u001b[39m, in \u001b[36mModule._call_impl\u001b[39m\u001b[34m(self, *args, **kwargs)\u001b[39m\n\u001b[32m   1757\u001b[39m \u001b[38;5;66;03m# If we don't have any hooks, we want to skip the rest of the logic in\u001b[39;00m\n\u001b[32m   1758\u001b[39m \u001b[38;5;66;03m# this function, and just call forward.\u001b[39;00m\n\u001b[32m   1759\u001b[39m \u001b[38;5;28;01mif\u001b[39;00m \u001b[38;5;129;01mnot\u001b[39;00m (\u001b[38;5;28mself\u001b[39m._backward_hooks \u001b[38;5;129;01mor\u001b[39;00m \u001b[38;5;28mself\u001b[39m._backward_pre_hooks \u001b[38;5;129;01mor\u001b[39;00m \u001b[38;5;28mself\u001b[39m._forward_hooks \u001b[38;5;129;01mor\u001b[39;00m \u001b[38;5;28mself\u001b[39m._forward_pre_hooks\n\u001b[32m   1760\u001b[39m         \u001b[38;5;129;01mor\u001b[39;00m _global_backward_pre_hooks \u001b[38;5;129;01mor\u001b[39;00m _global_backward_hooks\n\u001b[32m   1761\u001b[39m         \u001b[38;5;129;01mor\u001b[39;00m _global_forward_hooks \u001b[38;5;129;01mor\u001b[39;00m _global_forward_pre_hooks):\n\u001b[32m-> \u001b[39m\u001b[32m1762\u001b[39m     \u001b[38;5;28;01mreturn\u001b[39;00m \u001b[43mforward_call\u001b[49m\u001b[43m(\u001b[49m\u001b[43m*\u001b[49m\u001b[43margs\u001b[49m\u001b[43m,\u001b[49m\u001b[43m \u001b[49m\u001b[43m*\u001b[49m\u001b[43m*\u001b[49m\u001b[43mkwargs\u001b[49m\u001b[43m)\u001b[49m\n\u001b[32m   1764\u001b[39m result = \u001b[38;5;28;01mNone\u001b[39;00m\n\u001b[32m   1765\u001b[39m called_always_called_hooks = \u001b[38;5;28mset\u001b[39m()\n",
      "\u001b[36mFile \u001b[39m\u001b[32m~/Documents/Project/electrochem-digital-twins/notebooks/../src/models/vaeconv.py:89\u001b[39m, in \u001b[36mVAE_CONV.forward\u001b[39m\u001b[34m(self, x, desc)\u001b[39m\n\u001b[32m     87\u001b[39m \u001b[38;5;28;01mdef\u001b[39;00m\u001b[38;5;250m \u001b[39m\u001b[34mforward\u001b[39m(\u001b[38;5;28mself\u001b[39m, x: torch.Tensor, desc: torch.Tensor):\n\u001b[32m     88\u001b[39m     x = x.unsqueeze(\u001b[32m1\u001b[39m)\n\u001b[32m---> \u001b[39m\u001b[32m89\u001b[39m     mu, logvar = \u001b[38;5;28;43mself\u001b[39;49m\u001b[43m.\u001b[49m\u001b[43mencode\u001b[49m\u001b[43m(\u001b[49m\u001b[43mx\u001b[49m\u001b[43m)\u001b[49m\n\u001b[32m     90\u001b[39m     z = \u001b[38;5;28mself\u001b[39m.reparameterize(mu, logvar)\n\u001b[32m     91\u001b[39m     x_recon = \u001b[38;5;28mself\u001b[39m.decode(z, desc)\n",
      "\u001b[36mFile \u001b[39m\u001b[32m~/Documents/Project/electrochem-digital-twins/notebooks/../src/models/vaeconv.py:67\u001b[39m, in \u001b[36mVAE_CONV.encode\u001b[39m\u001b[34m(self, x)\u001b[39m\n\u001b[32m     66\u001b[39m \u001b[38;5;28;01mdef\u001b[39;00m\u001b[38;5;250m \u001b[39m\u001b[34mencode\u001b[39m(\u001b[38;5;28mself\u001b[39m, x: torch.Tensor):        \n\u001b[32m---> \u001b[39m\u001b[32m67\u001b[39m     x = \u001b[38;5;28;43mself\u001b[39;49m\u001b[43m.\u001b[49m\u001b[43mencoder\u001b[49m\u001b[43m(\u001b[49m\u001b[43mx\u001b[49m\u001b[43m)\u001b[49m\n\u001b[32m     68\u001b[39m     x = torch.flatten(x, start_dim=\u001b[32m1\u001b[39m)\n\u001b[32m     69\u001b[39m     mu = \u001b[38;5;28mself\u001b[39m.fc_mu(x)\n",
      "\u001b[36mFile \u001b[39m\u001b[32m~/Documents/Project/electrochem-digital-twins/.venv/lib/python3.13/site-packages/torch/nn/modules/module.py:1751\u001b[39m, in \u001b[36mModule._wrapped_call_impl\u001b[39m\u001b[34m(self, *args, **kwargs)\u001b[39m\n\u001b[32m   1749\u001b[39m     \u001b[38;5;28;01mreturn\u001b[39;00m \u001b[38;5;28mself\u001b[39m._compiled_call_impl(*args, **kwargs)  \u001b[38;5;66;03m# type: ignore[misc]\u001b[39;00m\n\u001b[32m   1750\u001b[39m \u001b[38;5;28;01melse\u001b[39;00m:\n\u001b[32m-> \u001b[39m\u001b[32m1751\u001b[39m     \u001b[38;5;28;01mreturn\u001b[39;00m \u001b[38;5;28;43mself\u001b[39;49m\u001b[43m.\u001b[49m\u001b[43m_call_impl\u001b[49m\u001b[43m(\u001b[49m\u001b[43m*\u001b[49m\u001b[43margs\u001b[49m\u001b[43m,\u001b[49m\u001b[43m \u001b[49m\u001b[43m*\u001b[49m\u001b[43m*\u001b[49m\u001b[43mkwargs\u001b[49m\u001b[43m)\u001b[49m\n",
      "\u001b[36mFile \u001b[39m\u001b[32m~/Documents/Project/electrochem-digital-twins/.venv/lib/python3.13/site-packages/torch/nn/modules/module.py:1762\u001b[39m, in \u001b[36mModule._call_impl\u001b[39m\u001b[34m(self, *args, **kwargs)\u001b[39m\n\u001b[32m   1757\u001b[39m \u001b[38;5;66;03m# If we don't have any hooks, we want to skip the rest of the logic in\u001b[39;00m\n\u001b[32m   1758\u001b[39m \u001b[38;5;66;03m# this function, and just call forward.\u001b[39;00m\n\u001b[32m   1759\u001b[39m \u001b[38;5;28;01mif\u001b[39;00m \u001b[38;5;129;01mnot\u001b[39;00m (\u001b[38;5;28mself\u001b[39m._backward_hooks \u001b[38;5;129;01mor\u001b[39;00m \u001b[38;5;28mself\u001b[39m._backward_pre_hooks \u001b[38;5;129;01mor\u001b[39;00m \u001b[38;5;28mself\u001b[39m._forward_hooks \u001b[38;5;129;01mor\u001b[39;00m \u001b[38;5;28mself\u001b[39m._forward_pre_hooks\n\u001b[32m   1760\u001b[39m         \u001b[38;5;129;01mor\u001b[39;00m _global_backward_pre_hooks \u001b[38;5;129;01mor\u001b[39;00m _global_backward_hooks\n\u001b[32m   1761\u001b[39m         \u001b[38;5;129;01mor\u001b[39;00m _global_forward_hooks \u001b[38;5;129;01mor\u001b[39;00m _global_forward_pre_hooks):\n\u001b[32m-> \u001b[39m\u001b[32m1762\u001b[39m     \u001b[38;5;28;01mreturn\u001b[39;00m \u001b[43mforward_call\u001b[49m\u001b[43m(\u001b[49m\u001b[43m*\u001b[49m\u001b[43margs\u001b[49m\u001b[43m,\u001b[49m\u001b[43m \u001b[49m\u001b[43m*\u001b[49m\u001b[43m*\u001b[49m\u001b[43mkwargs\u001b[49m\u001b[43m)\u001b[49m\n\u001b[32m   1764\u001b[39m result = \u001b[38;5;28;01mNone\u001b[39;00m\n\u001b[32m   1765\u001b[39m called_always_called_hooks = \u001b[38;5;28mset\u001b[39m()\n",
      "\u001b[36mFile \u001b[39m\u001b[32m~/Documents/Project/electrochem-digital-twins/.venv/lib/python3.13/site-packages/torch/nn/modules/container.py:240\u001b[39m, in \u001b[36mSequential.forward\u001b[39m\u001b[34m(self, input)\u001b[39m\n\u001b[32m    238\u001b[39m \u001b[38;5;28;01mdef\u001b[39;00m\u001b[38;5;250m \u001b[39m\u001b[34mforward\u001b[39m(\u001b[38;5;28mself\u001b[39m, \u001b[38;5;28minput\u001b[39m):\n\u001b[32m    239\u001b[39m     \u001b[38;5;28;01mfor\u001b[39;00m module \u001b[38;5;129;01min\u001b[39;00m \u001b[38;5;28mself\u001b[39m:\n\u001b[32m--> \u001b[39m\u001b[32m240\u001b[39m         \u001b[38;5;28minput\u001b[39m = \u001b[43mmodule\u001b[49m\u001b[43m(\u001b[49m\u001b[38;5;28;43minput\u001b[39;49m\u001b[43m)\u001b[49m\n\u001b[32m    241\u001b[39m     \u001b[38;5;28;01mreturn\u001b[39;00m \u001b[38;5;28minput\u001b[39m\n",
      "\u001b[36mFile \u001b[39m\u001b[32m~/Documents/Project/electrochem-digital-twins/.venv/lib/python3.13/site-packages/torch/nn/modules/module.py:1751\u001b[39m, in \u001b[36mModule._wrapped_call_impl\u001b[39m\u001b[34m(self, *args, **kwargs)\u001b[39m\n\u001b[32m   1749\u001b[39m     \u001b[38;5;28;01mreturn\u001b[39;00m \u001b[38;5;28mself\u001b[39m._compiled_call_impl(*args, **kwargs)  \u001b[38;5;66;03m# type: ignore[misc]\u001b[39;00m\n\u001b[32m   1750\u001b[39m \u001b[38;5;28;01melse\u001b[39;00m:\n\u001b[32m-> \u001b[39m\u001b[32m1751\u001b[39m     \u001b[38;5;28;01mreturn\u001b[39;00m \u001b[38;5;28;43mself\u001b[39;49m\u001b[43m.\u001b[49m\u001b[43m_call_impl\u001b[49m\u001b[43m(\u001b[49m\u001b[43m*\u001b[49m\u001b[43margs\u001b[49m\u001b[43m,\u001b[49m\u001b[43m \u001b[49m\u001b[43m*\u001b[49m\u001b[43m*\u001b[49m\u001b[43mkwargs\u001b[49m\u001b[43m)\u001b[49m\n",
      "\u001b[36mFile \u001b[39m\u001b[32m~/Documents/Project/electrochem-digital-twins/.venv/lib/python3.13/site-packages/torch/nn/modules/module.py:1762\u001b[39m, in \u001b[36mModule._call_impl\u001b[39m\u001b[34m(self, *args, **kwargs)\u001b[39m\n\u001b[32m   1757\u001b[39m \u001b[38;5;66;03m# If we don't have any hooks, we want to skip the rest of the logic in\u001b[39;00m\n\u001b[32m   1758\u001b[39m \u001b[38;5;66;03m# this function, and just call forward.\u001b[39;00m\n\u001b[32m   1759\u001b[39m \u001b[38;5;28;01mif\u001b[39;00m \u001b[38;5;129;01mnot\u001b[39;00m (\u001b[38;5;28mself\u001b[39m._backward_hooks \u001b[38;5;129;01mor\u001b[39;00m \u001b[38;5;28mself\u001b[39m._backward_pre_hooks \u001b[38;5;129;01mor\u001b[39;00m \u001b[38;5;28mself\u001b[39m._forward_hooks \u001b[38;5;129;01mor\u001b[39;00m \u001b[38;5;28mself\u001b[39m._forward_pre_hooks\n\u001b[32m   1760\u001b[39m         \u001b[38;5;129;01mor\u001b[39;00m _global_backward_pre_hooks \u001b[38;5;129;01mor\u001b[39;00m _global_backward_hooks\n\u001b[32m   1761\u001b[39m         \u001b[38;5;129;01mor\u001b[39;00m _global_forward_hooks \u001b[38;5;129;01mor\u001b[39;00m _global_forward_pre_hooks):\n\u001b[32m-> \u001b[39m\u001b[32m1762\u001b[39m     \u001b[38;5;28;01mreturn\u001b[39;00m \u001b[43mforward_call\u001b[49m\u001b[43m(\u001b[49m\u001b[43m*\u001b[49m\u001b[43margs\u001b[49m\u001b[43m,\u001b[49m\u001b[43m \u001b[49m\u001b[43m*\u001b[49m\u001b[43m*\u001b[49m\u001b[43mkwargs\u001b[49m\u001b[43m)\u001b[49m\n\u001b[32m   1764\u001b[39m result = \u001b[38;5;28;01mNone\u001b[39;00m\n\u001b[32m   1765\u001b[39m called_always_called_hooks = \u001b[38;5;28mset\u001b[39m()\n",
      "\u001b[36mFile \u001b[39m\u001b[32m~/Documents/Project/electrochem-digital-twins/.venv/lib/python3.13/site-packages/torch/nn/modules/conv.py:375\u001b[39m, in \u001b[36mConv1d.forward\u001b[39m\u001b[34m(self, input)\u001b[39m\n\u001b[32m    374\u001b[39m \u001b[38;5;28;01mdef\u001b[39;00m\u001b[38;5;250m \u001b[39m\u001b[34mforward\u001b[39m(\u001b[38;5;28mself\u001b[39m, \u001b[38;5;28minput\u001b[39m: Tensor) -> Tensor:\n\u001b[32m--> \u001b[39m\u001b[32m375\u001b[39m     \u001b[38;5;28;01mreturn\u001b[39;00m \u001b[38;5;28;43mself\u001b[39;49m\u001b[43m.\u001b[49m\u001b[43m_conv_forward\u001b[49m\u001b[43m(\u001b[49m\u001b[38;5;28;43minput\u001b[39;49m\u001b[43m,\u001b[49m\u001b[43m \u001b[49m\u001b[38;5;28;43mself\u001b[39;49m\u001b[43m.\u001b[49m\u001b[43mweight\u001b[49m\u001b[43m,\u001b[49m\u001b[43m \u001b[49m\u001b[38;5;28;43mself\u001b[39;49m\u001b[43m.\u001b[49m\u001b[43mbias\u001b[49m\u001b[43m)\u001b[49m\n",
      "\u001b[36mFile \u001b[39m\u001b[32m~/Documents/Project/electrochem-digital-twins/.venv/lib/python3.13/site-packages/torch/nn/modules/conv.py:370\u001b[39m, in \u001b[36mConv1d._conv_forward\u001b[39m\u001b[34m(self, input, weight, bias)\u001b[39m\n\u001b[32m    358\u001b[39m \u001b[38;5;28;01mif\u001b[39;00m \u001b[38;5;28mself\u001b[39m.padding_mode != \u001b[33m\"\u001b[39m\u001b[33mzeros\u001b[39m\u001b[33m\"\u001b[39m:\n\u001b[32m    359\u001b[39m     \u001b[38;5;28;01mreturn\u001b[39;00m F.conv1d(\n\u001b[32m    360\u001b[39m         F.pad(\n\u001b[32m    361\u001b[39m             \u001b[38;5;28minput\u001b[39m, \u001b[38;5;28mself\u001b[39m._reversed_padding_repeated_twice, mode=\u001b[38;5;28mself\u001b[39m.padding_mode\n\u001b[32m   (...)\u001b[39m\u001b[32m    368\u001b[39m         \u001b[38;5;28mself\u001b[39m.groups,\n\u001b[32m    369\u001b[39m     )\n\u001b[32m--> \u001b[39m\u001b[32m370\u001b[39m \u001b[38;5;28;01mreturn\u001b[39;00m \u001b[43mF\u001b[49m\u001b[43m.\u001b[49m\u001b[43mconv1d\u001b[49m\u001b[43m(\u001b[49m\n\u001b[32m    371\u001b[39m \u001b[43m    \u001b[49m\u001b[38;5;28;43minput\u001b[39;49m\u001b[43m,\u001b[49m\u001b[43m \u001b[49m\u001b[43mweight\u001b[49m\u001b[43m,\u001b[49m\u001b[43m \u001b[49m\u001b[43mbias\u001b[49m\u001b[43m,\u001b[49m\u001b[43m \u001b[49m\u001b[38;5;28;43mself\u001b[39;49m\u001b[43m.\u001b[49m\u001b[43mstride\u001b[49m\u001b[43m,\u001b[49m\u001b[43m \u001b[49m\u001b[38;5;28;43mself\u001b[39;49m\u001b[43m.\u001b[49m\u001b[43mpadding\u001b[49m\u001b[43m,\u001b[49m\u001b[43m \u001b[49m\u001b[38;5;28;43mself\u001b[39;49m\u001b[43m.\u001b[49m\u001b[43mdilation\u001b[49m\u001b[43m,\u001b[49m\u001b[43m \u001b[49m\u001b[38;5;28;43mself\u001b[39;49m\u001b[43m.\u001b[49m\u001b[43mgroups\u001b[49m\n\u001b[32m    372\u001b[39m \u001b[43m\u001b[49m\u001b[43m)\u001b[49m\n",
      "\u001b[31mKeyboardInterrupt\u001b[39m: "
     ]
    }
   ],
   "source": [
    "trainer.train_model()"
   ]
  },
  {
   "cell_type": "code",
   "execution_count": 54,
   "id": "3a549fc6",
   "metadata": {},
   "outputs": [],
   "source": [
    "full_ds = CVADataset(val)\n",
    "infer_loader = DataLoader(full_ds, batch_size=1, shuffle=False)\n",
    "\n",
    "vah_preds = []\n",
    "embeddings = []\n",
    "vae.eval()\n",
    "with torch.inference_mode():\n",
    "    for batch in infer_loader:\n",
    "        vah, desc = batch[\"vah\"].to(device), batch[\"features\"].to(device)\n",
    "        vah_hat, mu, logvar = vae(vah, desc)\n",
    "        embed = vae.reparameterize(mu, logvar)\n",
    "        \n",
    "        embeddings.append(embed.squeeze().cpu().numpy())\n",
    "        vah_preds.append(vah_hat.squeeze().cpu().numpy())\n",
    "\n",
    "# объединяем и превращаем в DataFrame\n",
    "vah_preds = pd.DataFrame(np.vstack(vah_preds))     # shape [N, 968]\n",
    "embeddings = pd.DataFrame(np.vstack(embeddings))"
   ]
  },
  {
   "cell_type": "code",
   "execution_count": 55,
   "id": "61555bcc",
   "metadata": {},
   "outputs": [],
   "source": [
    "embeddings[\"ppm\"] = df[\"ppm\"]\n",
    "embeddings[\"Inhibitor\"] = df[\"Inhibitor\"]"
   ]
  },
  {
   "cell_type": "code",
   "execution_count": 56,
   "id": "efcdda85",
   "metadata": {},
   "outputs": [],
   "source": [
    "gen_vah = np.array(vah_preds, dtype=np.float64)\n",
    "np_val = np.array(val.reset_index(drop=True).drop(columns=prep.desc.columns).drop(columns=\"ppm\"), dtype=np.float64)"
   ]
  },
  {
   "cell_type": "code",
   "execution_count": 57,
   "id": "fb43e3fa",
   "metadata": {},
   "outputs": [],
   "source": [
    "from dtaidistance import dtw\n",
    "\n",
    "def compute_dtw(original, reconstructed):\n",
    "    \"\"\"\n",
    "    Dynamic Time Warping расстояние между временными рядами.\n",
    "    \"\"\"\n",
    "    return dtw.distance_fast(original, reconstructed, use_c = True)"
   ]
  },
  {
   "cell_type": "code",
   "execution_count": 58,
   "id": "38c00167",
   "metadata": {},
   "outputs": [
    {
     "name": "stderr",
     "output_type": "stream",
     "text": [
      "100%|██████████| 940/940 [00:03<00:00, 285.44it/s]\n"
     ]
    }
   ],
   "source": [
    "from tqdm import tqdm\n",
    "\n",
    "dtw_m = []\n",
    "\n",
    "for i in tqdm(range(len(gen_vah))):\n",
    "    dtw_m.append(compute_dtw(gen_vah[i], np_val[i]))"
   ]
  },
  {
   "cell_type": "code",
   "execution_count": 59,
   "id": "63ba1adc",
   "metadata": {},
   "outputs": [],
   "source": [
    "metr = pd.DataFrame({\n",
    "    \"Inhibitor\": val.reset_index(drop=True)[\"Inhibitor\"],\n",
    "    \"metrics\":dtw_m})"
   ]
  },
  {
   "cell_type": "code",
   "execution_count": 60,
   "id": "9c58c66e",
   "metadata": {},
   "outputs": [
    {
     "data": {
      "text/plain": [
       "0.8731441625740993"
      ]
     },
     "execution_count": 60,
     "metadata": {},
     "output_type": "execute_result"
    }
   ],
   "source": [
    "metr['metrics'].mean()"
   ]
  },
  {
   "cell_type": "code",
   "execution_count": 61,
   "id": "7d36d413",
   "metadata": {},
   "outputs": [],
   "source": [
    "metr.to_csv(\"vae_conv_benzimidazole.csv\", index=False)"
   ]
  },
  {
   "cell_type": "code",
   "execution_count": null,
   "id": "b57ad034",
   "metadata": {},
   "outputs": [],
   "source": [
    "n = 7\n",
    "\n",
    "plt.figure(figsize=(10, 5))\n",
    "plt.plot(np_val[n], label=\"Original\")\n",
    "plt.plot(gen_vah[n], label=\"Reconstructed\", linestyle='--', color='red')\n",
    "plt.xticks(fontsize=16)\n",
    "plt.yticks(fontsize=16)\n",
    "plt.xlabel(\"Time, s\", fontsize=16, fontweight='bold', labelpad=20)\n",
    "plt.ylabel(\"Current, A\", fontsize=16, fontweight='bold', labelpad=20)\n",
    "plt.legend(fontsize=14, )\n",
    "plt.show()"
   ]
  }
 ],
 "metadata": {
  "kernelspec": {
   "display_name": ".venv",
   "language": "python",
   "name": "python3"
  },
  "language_info": {
   "codemirror_mode": {
    "name": "ipython",
    "version": 3
   },
   "file_extension": ".py",
   "mimetype": "text/x-python",
   "name": "python",
   "nbconvert_exporter": "python",
   "pygments_lexer": "ipython3",
   "version": "3.13.3"
  }
 },
 "nbformat": 4,
 "nbformat_minor": 5
}

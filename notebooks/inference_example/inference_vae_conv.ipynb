{
 "cells": [
  {
   "cell_type": "code",
   "execution_count": null,
   "id": "64d2d9df",
   "metadata": {},
   "outputs": [],
   "source": [
    "import os\n",
    "import sys\n",
    "sys.path.append(\"../..\")\n",
    "import pandas as pd\n",
    "import numpy as np\n",
    "import matplotlib.pyplot as plt\n",
    "\n",
    "from dtaidistance import dtw\n",
    "from tqdm import tqdm\n",
    "import torch\n",
    "from torch.utils.data import DataLoader\n",
    "\n",
    "from src.models.vaeconv import *\n",
    "from src.train.trainer.TrainerVAE import Trainer\n",
    "from src.data.preprocessing.pipeline import Pipeline\n",
    "from src.data.datasets.universal_dataset import CVADataset\n",
    "from src.data.preprocessing.splitter import select_test_inh\n",
    "from src.utils.paths import get_project_path"
   ]
  },
  {
   "cell_type": "code",
   "execution_count": null,
   "id": "bcc943eb",
   "metadata": {},
   "outputs": [],
   "source": [
    "device = \"cuda\" if torch.cuda.is_available() else \"cpu\""
   ]
  },
  {
   "cell_type": "code",
   "execution_count": null,
   "id": "3a8939bd",
   "metadata": {},
   "outputs": [],
   "source": [
    "INHIBITOR_NAME = \"2-mercaptobenzimidazole\"\n",
    "\n",
    "prep = Pipeline(\n",
    "    num_cycle=[1, 2, 3, 4], \n",
    "    inhibitor_name=\"all\", \n",
    "    split=\"all\",\n",
    "    norm_feat=True\n",
    ")\n",
    "data = prep.full_data\n",
    "\n",
    "\n",
    "train, val = select_test_inh(data, INHIBITOR_NAME)"
   ]
  },
  {
   "cell_type": "code",
   "execution_count": null,
   "id": "0d4faa39",
   "metadata": {},
   "outputs": [],
   "source": [
    "vae = VAE_CONV(\n",
    "    in_channels=1,\n",
    "    latent_dim=64,\n",
    "    seq_len=968,\n",
    "    desc_dim=41\n",
    ").to(device)\n",
    "\n",
    "vae.load_state_dict(\n",
    "    torch.load(\n",
    "        os.path.join(get_project_path(), \"models\", \"vae_conv\", INHIBITOR_NAME, \"best_model.pt\"),\n",
    "        map_location=\"cpu\"\n",
    "    )\n",
    ")"
   ]
  },
  {
   "cell_type": "code",
   "execution_count": null,
   "id": "3a549fc6",
   "metadata": {},
   "outputs": [],
   "source": [
    "full_ds = CVADataset(val)\n",
    "infer_loader = DataLoader(full_ds, batch_size=1, shuffle=False)\n",
    "\n",
    "gen_vah, real_cva = [], []\n",
    "\n",
    "vae.eval()\n",
    "with torch.inference_mode():\n",
    "    for batch in infer_loader:\n",
    "        vah, desc = batch[\"vah\"].to(device), batch[\"features\"].to(device)\n",
    "        vah_hat, _, _ = vae(vah, desc)\n",
    "        \n",
    "        gen_vah.append(vah_hat.squeeze().detach().cpu().numpy())\n",
    "        real_cva.append(vah.detach().cpu().numpy()[0])\n",
    "\n",
    "df_vah = pd.DataFrame(gen_vah)\n",
    "df_vah[\"Inhibitor\"] = val.reset_index(drop=True)[\"Inhibitor\"]\n",
    "\n",
    "real_df_vah = pd.DataFrame(real_cva)\n",
    "real_df_vah[\"Inhibitor\"] = val.reset_index(drop=True)[\"Inhibitor\"]"
   ]
  },
  {
   "cell_type": "code",
   "execution_count": null,
   "id": "eaa8a4a3",
   "metadata": {},
   "outputs": [],
   "source": [
    "def compute_dtw(original, reconstructed):\n",
    "    \"\"\"\n",
    "    Dynamic Time Warping расстояние между временными рядами.\n",
    "    \"\"\"\n",
    "    return dtw.distance_fast(original, reconstructed, use_c = True)"
   ]
  },
  {
   "cell_type": "code",
   "execution_count": null,
   "id": "f589002b",
   "metadata": {},
   "outputs": [],
   "source": [
    "np_vah = np.array(df_vah.drop(columns=[\"Inhibitor\"]), dtype=np.float64)\n",
    "np_valid = np.array(real_df_vah.drop(columns=[\"Inhibitor\"]), dtype=np.float64)"
   ]
  },
  {
   "cell_type": "code",
   "execution_count": null,
   "id": "f2747b77",
   "metadata": {},
   "outputs": [],
   "source": [
    "dtw_m = []\n",
    "\n",
    "for i in tqdm(range(len(df_vah))):\n",
    "    dtw_m.append(compute_dtw(np_vah[i], np_valid[i]))"
   ]
  },
  {
   "cell_type": "code",
   "execution_count": null,
   "id": "b86cbab1",
   "metadata": {},
   "outputs": [],
   "source": [
    "metr = pd.DataFrame(\n",
    "    {\n",
    "        \"Inhibitor\": val.reset_index(drop=True)[\"Inhibitor\"],\n",
    "        \"metrics\":dtw_m\n",
    "    }\n",
    ")"
   ]
  },
  {
   "cell_type": "code",
   "execution_count": null,
   "id": "ac556a5f",
   "metadata": {},
   "outputs": [],
   "source": [
    "n = 459\n",
    "\n",
    "plt.figure(figsize=(10, 5))\n",
    "plt.plot(np_valid[n], label=\"Original\")\n",
    "plt.plot(np_vah[n], label=\"Reconstructed\", linestyle='--', color='red')\n",
    "plt.xticks(fontsize=16)\n",
    "plt.yticks(fontsize=16)\n",
    "plt.xlabel(\"Time, s\", fontsize=16, fontweight='bold', labelpad=20)\n",
    "plt.ylabel(\"Current, A\", fontsize=16, fontweight='bold', labelpad=20)\n",
    "plt.legend(fontsize=14, )\n",
    "plt.show()"
   ]
  },
  {
   "cell_type": "code",
   "execution_count": null,
   "id": "64d03ea4",
   "metadata": {},
   "outputs": [],
   "source": [
    "pd.DataFrame(\n",
    "    {\n",
    "        \"Orig\": np_valid[n],\n",
    "        \"Reconstructed\": np_vah[n]\n",
    "    }\n",
    ").to_excel(\"CVA_conv_vae.xlsx\", index=False)"
   ]
  }
 ],
 "metadata": {
  "kernelspec": {
   "display_name": ".venv",
   "language": "python",
   "name": "python3"
  },
  "language_info": {
   "codemirror_mode": {
    "name": "ipython",
    "version": 3
   },
   "file_extension": ".py",
   "mimetype": "text/x-python",
   "name": "python",
   "nbconvert_exporter": "python",
   "pygments_lexer": "ipython3",
   "version": "3.13.3"
  }
 },
 "nbformat": 4,
 "nbformat_minor": 5
}
